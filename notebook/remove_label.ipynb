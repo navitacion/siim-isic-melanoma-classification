{
 "cells": [
  {
   "cell_type": "code",
   "execution_count": 1,
   "metadata": {},
   "outputs": [],
   "source": [
    "import pandas as pd"
   ]
  },
  {
   "cell_type": "code",
   "execution_count": 2,
   "metadata": {},
   "outputs": [
    {
     "data": {
      "text/html": [
       "<div>\n",
       "<style scoped>\n",
       "    .dataframe tbody tr th:only-of-type {\n",
       "        vertical-align: middle;\n",
       "    }\n",
       "\n",
       "    .dataframe tbody tr th {\n",
       "        vertical-align: top;\n",
       "    }\n",
       "\n",
       "    .dataframe thead th {\n",
       "        text-align: right;\n",
       "    }\n",
       "</style>\n",
       "<table border=\"1\" class=\"dataframe\">\n",
       "  <thead>\n",
       "    <tr style=\"text-align: right;\">\n",
       "      <th></th>\n",
       "      <th>Unnamed: 0</th>\n",
       "      <th>image_name</th>\n",
       "      <th>target</th>\n",
       "      <th>fold</th>\n",
       "      <th>image_name.1</th>\n",
       "      <th>target.1</th>\n",
       "    </tr>\n",
       "  </thead>\n",
       "  <tbody>\n",
       "    <tr>\n",
       "      <th>0</th>\n",
       "      <td>0</td>\n",
       "      <td>ISIC_2637011</td>\n",
       "      <td>0</td>\n",
       "      <td>4</td>\n",
       "      <td>ISIC_2637011</td>\n",
       "      <td>0.066990</td>\n",
       "    </tr>\n",
       "    <tr>\n",
       "      <th>1</th>\n",
       "      <td>1</td>\n",
       "      <td>ISIC_0015719</td>\n",
       "      <td>0</td>\n",
       "      <td>1</td>\n",
       "      <td>ISIC_0015719</td>\n",
       "      <td>0.041630</td>\n",
       "    </tr>\n",
       "    <tr>\n",
       "      <th>2</th>\n",
       "      <td>2</td>\n",
       "      <td>ISIC_0052212</td>\n",
       "      <td>0</td>\n",
       "      <td>2</td>\n",
       "      <td>ISIC_0052212</td>\n",
       "      <td>0.046816</td>\n",
       "    </tr>\n",
       "    <tr>\n",
       "      <th>3</th>\n",
       "      <td>3</td>\n",
       "      <td>ISIC_0068279</td>\n",
       "      <td>0</td>\n",
       "      <td>1</td>\n",
       "      <td>ISIC_0068279</td>\n",
       "      <td>0.056438</td>\n",
       "    </tr>\n",
       "    <tr>\n",
       "      <th>4</th>\n",
       "      <td>4</td>\n",
       "      <td>ISIC_0074268</td>\n",
       "      <td>0</td>\n",
       "      <td>2</td>\n",
       "      <td>ISIC_0074268</td>\n",
       "      <td>0.038578</td>\n",
       "    </tr>\n",
       "  </tbody>\n",
       "</table>\n",
       "</div>"
      ],
      "text/plain": [
       "   Unnamed: 0    image_name  target  fold  image_name.1  target.1\n",
       "0           0  ISIC_2637011       0     4  ISIC_2637011  0.066990\n",
       "1           1  ISIC_0015719       0     1  ISIC_0015719  0.041630\n",
       "2           2  ISIC_0052212       0     2  ISIC_0052212  0.046816\n",
       "3           3  ISIC_0068279       0     1  ISIC_0068279  0.056438\n",
       "4           4  ISIC_0074268       0     2  ISIC_0074268  0.038578"
      ]
     },
     "execution_count": 2,
     "metadata": {},
     "output_type": "execute_result"
    }
   ],
   "source": [
    "a = pd.read_csv('../submission/submission_oof_enet_b2_8_384.csv')\n",
    "b = pd.read_csv('../submission/submission_oof_enet_b2_9_384.csv')\n",
    "c = pd.read_csv('../submission/submission_oof_enet_b2_10_384.csv')\n",
    "a.head()"
   ]
  },
  {
   "cell_type": "code",
   "execution_count": 9,
   "metadata": {},
   "outputs": [
    {
     "name": "stdout",
     "output_type": "stream",
     "text": [
      "Label = 0\n",
      "pred=1 shape:  172\n",
      "pred=0 shape:  32370\n",
      "Label = 1\n",
      "pred=1 shape:  227\n",
      "pred=0 shape:  357\n"
     ]
    }
   ],
   "source": [
    "t = a[a['target'] == 0]\n",
    "t_1 = t[t['target.1'] > 0.5]\n",
    "t_0 = t[t['target.1'] < 0.5]\n",
    "\n",
    "print('Label = 0')\n",
    "print('pred=1 shape: ', t_1.shape[0])\n",
    "print('pred=0 shape: ', t_0.shape[0])\n",
    "\n",
    "t = a[a['target'] == 1]\n",
    "t_1 = t[t['target.1'] > 0.5]\n",
    "t_0 = t[t['target.1'] < 0.5]\n",
    "\n",
    "print('Label = 1')\n",
    "print('pred=1 shape: ', t_1.shape[0])\n",
    "print('pred=0 shape: ', t_0.shape[0])"
   ]
  },
  {
   "cell_type": "code",
   "execution_count": 10,
   "metadata": {},
   "outputs": [
    {
     "name": "stdout",
     "output_type": "stream",
     "text": [
      "Label = 0\n",
      "pred=1 shape:  212\n",
      "pred=0 shape:  32330\n",
      "Label = 1\n",
      "pred=1 shape:  175\n",
      "pred=0 shape:  409\n"
     ]
    }
   ],
   "source": [
    "t = b[b['target'] == 0]\n",
    "t_1 = t[t['target.1'] > 0.5]\n",
    "t_0 = t[t['target.1'] < 0.5]\n",
    "\n",
    "print('Label = 0')\n",
    "print('pred=1 shape: ', t_1.shape[0])\n",
    "print('pred=0 shape: ', t_0.shape[0])\n",
    "\n",
    "t = b[b['target'] == 1]\n",
    "t_1 = t[t['target.1'] > 0.5]\n",
    "t_0 = t[t['target.1'] < 0.5]\n",
    "\n",
    "print('Label = 1')\n",
    "print('pred=1 shape: ', t_1.shape[0])\n",
    "print('pred=0 shape: ', t_0.shape[0])"
   ]
  },
  {
   "cell_type": "code",
   "execution_count": 11,
   "metadata": {},
   "outputs": [
    {
     "name": "stdout",
     "output_type": "stream",
     "text": [
      "Label = 0\n",
      "pred=1 shape:  85\n",
      "pred=0 shape:  32191\n",
      "Label = 1\n",
      "pred=1 shape:  204\n",
      "pred=0 shape:  380\n"
     ]
    }
   ],
   "source": [
    "t = c[c['target'] == 0]\n",
    "t_1 = t[t['target.1'] > 0.5]\n",
    "t_0 = t[t['target.1'] < 0.5]\n",
    "\n",
    "print('Label = 0')\n",
    "print('pred=1 shape: ', t_1.shape[0])\n",
    "print('pred=0 shape: ', t_0.shape[0])\n",
    "\n",
    "t = c[c['target'] == 1]\n",
    "t_1 = t[t['target.1'] > 0.5]\n",
    "t_0 = t[t['target.1'] < 0.5]\n",
    "\n",
    "print('Label = 1')\n",
    "print('pred=1 shape: ', t_1.shape[0])\n",
    "print('pred=0 shape: ', t_0.shape[0])"
   ]
  },
  {
   "cell_type": "code",
   "execution_count": 12,
   "metadata": {},
   "outputs": [],
   "source": [
    "# 予測と一致しないimage_nameを抽出\n",
    "drops = []\n",
    "t = a[a['target'] == 0]\n",
    "t_1 = t[t['target.1'] > 0.5]\n",
    "\n",
    "drops.extend(t_1['image_name'].values.tolist())\n",
    "\n",
    "t = b[b['target'] == 0]\n",
    "t_1 = t[t['target.1'] > 0.5]\n",
    "\n",
    "drops.extend(t_1['image_name'].values.tolist())\n",
    "\n",
    "t = c[c['target'] == 0]\n",
    "t_1 = t[t['target.1'] > 0.5]\n",
    "\n",
    "drops.extend(t_1['image_name'].values.tolist())\n",
    "\n",
    "drops = list(set(drops))\n",
    "\n",
    "s = 'a'\n",
    "\n",
    "for t in drops:\n",
    "    s += \"'\" + str(t) + \"'\" + ', '"
   ]
  },
  {
   "cell_type": "code",
   "execution_count": 13,
   "metadata": {},
   "outputs": [
    {
     "data": {
      "text/plain": [
       "\"a'ISIC_3774190', 'ISIC_2872769', 'ISIC_6461484', 'ISIC_5223280', 'ISIC_1733995', 'ISIC_0239597', 'ISIC_8751380', 'ISIC_0192893', 'ISIC_2697910', 'ISIC_5866381', 'ISIC_1447559', 'ISIC_8015259', 'ISIC_5789052', 'ISIC_4036915', 'ISIC_8219342', 'ISIC_2981912', 'ISIC_7764481', 'ISIC_5033871', 'ISIC_5485142', 'ISIC_7586566', 'ISIC_8623291', 'ISIC_8507102', 'ISIC_1114860', 'ISIC_4933735', 'ISIC_9828463', 'ISIC_3251719', 'ISIC_4282719', 'ISIC_4681838', 'ISIC_0307958', 'ISIC_4443776', 'ISIC_8659639', 'ISIC_9127114', 'ISIC_1043313', 'ISIC_8572893', 'ISIC_9314144', 'ISIC_1389620', 'ISIC_8828670', 'ISIC_1894141', 'ISIC_7148656', 'ISIC_2164933', 'ISIC_1026757', 'ISIC_3089729', 'ISIC_5019268', 'ISIC_8146054', 'ISIC_6234881', 'ISIC_9574591', 'ISIC_9391846', 'ISIC_0948240', 'ISIC_3650938', 'ISIC_1242543', 'ISIC_7682938', 'ISIC_6342641', 'ISIC_5218561', 'ISIC_9274260', 'ISIC_7194695', 'ISIC_3940809', 'ISIC_5268669', 'ISIC_5576241', 'ISIC_5407240', 'ISIC_7771339', 'ISIC_4693693', 'ISIC_4046055', 'ISIC_3285862', 'ISIC_8098274', 'ISIC_5972136', 'ISIC_3230164', 'ISIC_2863809', 'ISIC_5904214', 'ISIC_6166824', 'ISIC_0230209', 'ISIC_7115931', 'ISIC_7292853', 'ISIC_6019539', 'ISIC_9336675', 'ISIC_1768325', 'ISIC_7785457', 'ISIC_7433711', 'ISIC_4162828', 'ISIC_4350914', 'ISIC_3455136', 'ISIC_4910683', 'ISIC_8483008', 'ISIC_2768800', 'ISIC_4968388', 'ISIC_0243683', 'ISIC_3575926', 'ISIC_6594555', 'ISIC_4881841', 'ISIC_0361529', 'ISIC_5361506', 'ISIC_3238159', 'ISIC_3001941', 'ISIC_5750242', 'ISIC_6556513', 'ISIC_0356238', 'ISIC_0861066', 'ISIC_2160145', 'ISIC_3451688', 'ISIC_5459207', 'ISIC_0610141', 'ISIC_8770180', 'ISIC_3202829', 'ISIC_3994631', 'ISIC_4298309', 'ISIC_7140636', 'ISIC_0695575', 'ISIC_0754586', 'ISIC_7408392', 'ISIC_1195354', 'ISIC_8791163', 'ISIC_6730455', 'ISIC_3465766', 'ISIC_8856029', 'ISIC_0787851', 'ISIC_1080647', 'ISIC_1436572', 'ISIC_0982984', 'ISIC_8480913', 'ISIC_5161114', 'ISIC_8196660', 'ISIC_7418664', 'ISIC_5644568', 'ISIC_3760156', 'ISIC_4358550', 'ISIC_6110309', 'ISIC_3790692', 'ISIC_0803850', 'ISIC_9690422', 'ISIC_5335139', 'ISIC_4432898', 'ISIC_1766413', 'ISIC_4288522', 'ISIC_9028131', 'ISIC_6029052', 'ISIC_0610499', 'ISIC_7441957', 'ISIC_9514450', 'ISIC_1520897', 'ISIC_5536616', 'ISIC_2152755', 'ISIC_9169000', 'ISIC_5783764', 'ISIC_2957196', 'ISIC_1355907', 'ISIC_4548990', 'ISIC_3061909', 'ISIC_8325872', 'ISIC_7452152', 'ISIC_9364879', 'ISIC_4908514', 'ISIC_3587744', 'ISIC_9704624', 'ISIC_0159060', 'ISIC_9448629', 'ISIC_0704618', 'ISIC_1330763', 'ISIC_0639415', 'ISIC_0667149', 'ISIC_4384331', 'ISIC_4361405', 'ISIC_8289681', 'ISIC_2195832', 'ISIC_3699454', 'ISIC_1156392', 'ISIC_4443545', 'ISIC_7789537', 'ISIC_1585919', 'ISIC_8778158', 'ISIC_8335489', 'ISIC_9846324', 'ISIC_4904364', 'ISIC_9659306', 'ISIC_6704518', 'ISIC_1779061', 'ISIC_5630940', 'ISIC_7854457', 'ISIC_4858099', 'ISIC_8444619', 'ISIC_3371249', 'ISIC_1826803', 'ISIC_4259290', 'ISIC_9280399', 'ISIC_8199247', 'ISIC_5238910', 'ISIC_3450978', 'ISIC_6107184', 'ISIC_9481260', 'ISIC_2195070', 'ISIC_5777548', 'ISIC_8277969', 'ISIC_8851901', 'ISIC_2625884', 'ISIC_9839042', 'ISIC_0694037', 'ISIC_9459785', 'ISIC_5946998', 'ISIC_7028320', 'ISIC_8174647', 'ISIC_7115605', 'ISIC_9797578', 'ISIC_2140099', 'ISIC_9161937', 'ISIC_0170059', 'ISIC_2761440', 'ISIC_4748668', 'ISIC_4654808', 'ISIC_1811256', 'ISIC_0322818', 'ISIC_8054626', 'ISIC_3167092', 'ISIC_6588537', 'ISIC_0711790', 'ISIC_2582493', 'ISIC_6515221', 'ISIC_2956783', 'ISIC_4478276', 'ISIC_1374795', 'ISIC_7918608', 'ISIC_8570665', 'ISIC_5681315', 'ISIC_5843094', 'ISIC_1336572', 'ISIC_4792936', 'ISIC_7050773', 'ISIC_2336763', 'ISIC_5157055', 'ISIC_1793200', 'ISIC_6573739', 'ISIC_9698871', 'ISIC_3962218', 'ISIC_6425888', 'ISIC_4263017', 'ISIC_2772066', 'ISIC_4605642', 'ISIC_9174738', 'ISIC_1852500', 'ISIC_9103289', 'ISIC_1219894', 'ISIC_3302289', 'ISIC_8190321', 'ISIC_3688407', 'ISIC_3907656', 'ISIC_2853454', 'ISIC_7194471', 'ISIC_8780369', 'ISIC_5136612', 'ISIC_4064330', 'ISIC_4963405', 'ISIC_6906476', 'ISIC_6761105', 'ISIC_9994768', 'ISIC_3262153', 'ISIC_7718384', 'ISIC_1442157', 'ISIC_7560157', 'ISIC_2623707', 'ISIC_4891233', 'ISIC_1243184', 'ISIC_5093070', 'ISIC_9728805', 'ISIC_0645462', 'ISIC_8208962', 'ISIC_5104921', 'ISIC_1938535', 'ISIC_9022865', 'ISIC_6511141', 'ISIC_9068053', 'ISIC_1178847', 'ISIC_4430815', 'ISIC_5179742', 'ISIC_0314462', 'ISIC_0702317', 'ISIC_7690654', 'ISIC_7597293', 'ISIC_6596403', 'ISIC_9995166', 'ISIC_0612624', 'ISIC_7730443', 'ISIC_6833905', 'ISIC_6953126', 'ISIC_4085552', 'ISIC_3582787', 'ISIC_3943097', 'ISIC_0761623', 'ISIC_0227038', 'ISIC_8593130', 'ISIC_2102371', 'ISIC_2932886', 'ISIC_8142203', 'ISIC_8707477', 'ISIC_3481768', 'ISIC_8904326', 'ISIC_0851556', 'ISIC_2811886', 'ISIC_4330005', 'ISIC_0401250', 'ISIC_4673844', 'ISIC_4579531', 'ISIC_9360142', 'ISIC_7128535', 'ISIC_1492455', 'ISIC_9281339', 'ISIC_1315068', 'ISIC_9650546', 'ISIC_1323909', 'ISIC_1823608', 'ISIC_0343061', 'ISIC_0280749', 'ISIC_7200676', 'ISIC_6587979', 'ISIC_1027856', 'ISIC_9959813', 'ISIC_0236778', 'ISIC_5374076', 'ISIC_9464203', 'ISIC_2744859', 'ISIC_8831706', 'ISIC_4214813', 'ISIC_6321076', 'ISIC_6633174', 'ISIC_5278307', 'ISIC_3571989', 'ISIC_4520704', 'ISIC_8772865', 'ISIC_9364535', 'ISIC_9513918', 'ISIC_7286958', 'ISIC_5464206', 'ISIC_3186625', 'ISIC_3160301', 'ISIC_7358293', 'ISIC_5582679', 'ISIC_2417958', 'ISIC_6562871', 'ISIC_2205007', 'ISIC_6567889', 'ISIC_8827725', 'ISIC_7828320', 'ISIC_6852275', 'ISIC_9898447', 'ISIC_1538510', 'ISIC_5824220', 'ISIC_3048886', 'ISIC_5159557', 'ISIC_2940763', 'ISIC_2145640', 'ISIC_0464315', 'ISIC_6712494', 'ISIC_6023795', 'ISIC_6987824', 'ISIC_9305209', \""
      ]
     },
     "execution_count": 13,
     "metadata": {},
     "output_type": "execute_result"
    }
   ],
   "source": [
    "s"
   ]
  },
  {
   "cell_type": "code",
   "execution_count": null,
   "metadata": {},
   "outputs": [],
   "source": []
  }
 ],
 "metadata": {
  "kernelspec": {
   "display_name": "Python 3",
   "language": "python",
   "name": "python3"
  },
  "language_info": {
   "codemirror_mode": {
    "name": "ipython",
    "version": 3
   },
   "file_extension": ".py",
   "mimetype": "text/x-python",
   "name": "python",
   "nbconvert_exporter": "python",
   "pygments_lexer": "ipython3",
   "version": "3.7.7"
  }
 },
 "nbformat": 4,
 "nbformat_minor": 4
}
